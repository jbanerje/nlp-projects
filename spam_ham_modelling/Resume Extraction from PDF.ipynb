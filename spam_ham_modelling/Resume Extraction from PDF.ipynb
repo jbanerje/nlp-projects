{
 "cells": [
  {
   "cell_type": "code",
   "execution_count": 200,
   "id": "cbfc77c6",
   "metadata": {},
   "outputs": [],
   "source": [
    "# !pip install PyPDF2\n",
    "# !pip install python-pdfbox\n",
    "# !pip install resume-parser\n",
    "# !pip install pyresparser"
   ]
  },
  {
   "cell_type": "code",
   "execution_count": 193,
   "id": "65fe43e2",
   "metadata": {},
   "outputs": [],
   "source": [
    "import spacy\n",
    "nlp = spacy.load(\"en_core_web_md\")\n",
    "from spacy_streamlit import visualize_ner, visualize_tokens, visualize_textcat\n",
    "from spacy.matcher import Matcher\n",
    "\n",
    "import pandas as pd\n",
    "import PyPDF2 as pdf\n",
    "import pdfbox\n",
    "import re\n",
    "import string"
   ]
  },
  {
   "cell_type": "code",
   "execution_count": 201,
   "id": "41e02929",
   "metadata": {},
   "outputs": [
    {
     "name": "stderr",
     "output_type": "stream",
     "text": [
      "UserWarning: [W094] Model 'en_training' (0.0.0) specifies an under-constrained spaCy version requirement: >=2.1.4. This can lead to compatibility problems with older versions, or as new spaCy versions are released, because the model may say it's compatible when it's not. Consider changing the \"spacy_version\" in your meta.json to a version range, with a lower and upper pin. For example: >=3.2.1,<3.3.0 [util.py:841]\n"
     ]
    },
    {
     "ename": "OSError",
     "evalue": "[E053] Could not read config.cfg from C:\\Users\\JBanerjee\\Anaconda3\\lib\\site-packages\\pyresparser\\config.cfg",
     "output_type": "error",
     "traceback": [
      "\u001b[1;31m---------------------------------------------------------------------------\u001b[0m",
      "\u001b[1;31mOSError\u001b[0m                                   Traceback (most recent call last)",
      "\u001b[1;32mC:\\Users\\JBANER~1\\AppData\\Local\\Temp/ipykernel_5404/1316726763.py\u001b[0m in \u001b[0;36m<module>\u001b[1;34m\u001b[0m\n\u001b[0;32m      1\u001b[0m \u001b[1;32mfrom\u001b[0m \u001b[0mpyresparser\u001b[0m \u001b[1;32mimport\u001b[0m \u001b[0mResumeParser\u001b[0m\u001b[1;33m\u001b[0m\u001b[1;33m\u001b[0m\u001b[0m\n\u001b[1;32m----> 2\u001b[1;33m \u001b[0mdata\u001b[0m \u001b[1;33m=\u001b[0m \u001b[0mResumeParser\u001b[0m\u001b[1;33m(\u001b[0m\u001b[1;34m'./sample_data/Sohini Banerjee Reddy - Scrum Master.pdf'\u001b[0m\u001b[1;33m)\u001b[0m\u001b[1;33m.\u001b[0m\u001b[0mget_extracted_data\u001b[0m\u001b[1;33m(\u001b[0m\u001b[1;33m)\u001b[0m\u001b[1;33m\u001b[0m\u001b[1;33m\u001b[0m\u001b[0m\n\u001b[0m\u001b[0;32m      3\u001b[0m \u001b[0mdata\u001b[0m\u001b[1;33m\u001b[0m\u001b[1;33m\u001b[0m\u001b[0m\n",
      "\u001b[1;32m~\\Anaconda3\\lib\\site-packages\\pyresparser\\resume_parser.py\u001b[0m in \u001b[0;36m__init__\u001b[1;34m(self, resume, skills_file, custom_regex)\u001b[0m\n\u001b[0;32m     19\u001b[0m     ):\n\u001b[0;32m     20\u001b[0m         \u001b[0mnlp\u001b[0m \u001b[1;33m=\u001b[0m \u001b[0mspacy\u001b[0m\u001b[1;33m.\u001b[0m\u001b[0mload\u001b[0m\u001b[1;33m(\u001b[0m\u001b[1;34m'en_core_web_sm'\u001b[0m\u001b[1;33m)\u001b[0m\u001b[1;33m\u001b[0m\u001b[1;33m\u001b[0m\u001b[0m\n\u001b[1;32m---> 21\u001b[1;33m         \u001b[0mcustom_nlp\u001b[0m \u001b[1;33m=\u001b[0m \u001b[0mspacy\u001b[0m\u001b[1;33m.\u001b[0m\u001b[0mload\u001b[0m\u001b[1;33m(\u001b[0m\u001b[0mos\u001b[0m\u001b[1;33m.\u001b[0m\u001b[0mpath\u001b[0m\u001b[1;33m.\u001b[0m\u001b[0mdirname\u001b[0m\u001b[1;33m(\u001b[0m\u001b[0mos\u001b[0m\u001b[1;33m.\u001b[0m\u001b[0mpath\u001b[0m\u001b[1;33m.\u001b[0m\u001b[0mabspath\u001b[0m\u001b[1;33m(\u001b[0m\u001b[0m__file__\u001b[0m\u001b[1;33m)\u001b[0m\u001b[1;33m)\u001b[0m\u001b[1;33m)\u001b[0m\u001b[1;33m\u001b[0m\u001b[1;33m\u001b[0m\u001b[0m\n\u001b[0m\u001b[0;32m     22\u001b[0m         \u001b[0mself\u001b[0m\u001b[1;33m.\u001b[0m\u001b[0m__skills_file\u001b[0m \u001b[1;33m=\u001b[0m \u001b[0mskills_file\u001b[0m\u001b[1;33m\u001b[0m\u001b[1;33m\u001b[0m\u001b[0m\n\u001b[0;32m     23\u001b[0m         \u001b[0mself\u001b[0m\u001b[1;33m.\u001b[0m\u001b[0m__custom_regex\u001b[0m \u001b[1;33m=\u001b[0m \u001b[0mcustom_regex\u001b[0m\u001b[1;33m\u001b[0m\u001b[1;33m\u001b[0m\u001b[0m\n",
      "\u001b[1;32m~\\Anaconda3\\lib\\site-packages\\spacy\\__init__.py\u001b[0m in \u001b[0;36mload\u001b[1;34m(name, vocab, disable, exclude, config)\u001b[0m\n\u001b[0;32m     49\u001b[0m     \u001b[0mRETURNS\u001b[0m \u001b[1;33m(\u001b[0m\u001b[0mLanguage\u001b[0m\u001b[1;33m)\u001b[0m\u001b[1;33m:\u001b[0m \u001b[0mThe\u001b[0m \u001b[0mloaded\u001b[0m \u001b[0mnlp\u001b[0m \u001b[0mobject\u001b[0m\u001b[1;33m.\u001b[0m\u001b[1;33m\u001b[0m\u001b[1;33m\u001b[0m\u001b[0m\n\u001b[0;32m     50\u001b[0m     \"\"\"\n\u001b[1;32m---> 51\u001b[1;33m     return util.load_model(\n\u001b[0m\u001b[0;32m     52\u001b[0m         \u001b[0mname\u001b[0m\u001b[1;33m,\u001b[0m \u001b[0mvocab\u001b[0m\u001b[1;33m=\u001b[0m\u001b[0mvocab\u001b[0m\u001b[1;33m,\u001b[0m \u001b[0mdisable\u001b[0m\u001b[1;33m=\u001b[0m\u001b[0mdisable\u001b[0m\u001b[1;33m,\u001b[0m \u001b[0mexclude\u001b[0m\u001b[1;33m=\u001b[0m\u001b[0mexclude\u001b[0m\u001b[1;33m,\u001b[0m \u001b[0mconfig\u001b[0m\u001b[1;33m=\u001b[0m\u001b[0mconfig\u001b[0m\u001b[1;33m\u001b[0m\u001b[1;33m\u001b[0m\u001b[0m\n\u001b[0;32m     53\u001b[0m     )\n",
      "\u001b[1;32m~\\Anaconda3\\lib\\site-packages\\spacy\\util.py\u001b[0m in \u001b[0;36mload_model\u001b[1;34m(name, vocab, disable, exclude, config)\u001b[0m\n\u001b[0;32m    420\u001b[0m             \u001b[1;32mreturn\u001b[0m \u001b[0mload_model_from_package\u001b[0m\u001b[1;33m(\u001b[0m\u001b[0mname\u001b[0m\u001b[1;33m,\u001b[0m \u001b[1;33m**\u001b[0m\u001b[0mkwargs\u001b[0m\u001b[1;33m)\u001b[0m  \u001b[1;31m# type: ignore[arg-type]\u001b[0m\u001b[1;33m\u001b[0m\u001b[1;33m\u001b[0m\u001b[0m\n\u001b[0;32m    421\u001b[0m         \u001b[1;32mif\u001b[0m \u001b[0mPath\u001b[0m\u001b[1;33m(\u001b[0m\u001b[0mname\u001b[0m\u001b[1;33m)\u001b[0m\u001b[1;33m.\u001b[0m\u001b[0mexists\u001b[0m\u001b[1;33m(\u001b[0m\u001b[1;33m)\u001b[0m\u001b[1;33m:\u001b[0m  \u001b[1;31m# path to model data directory\u001b[0m\u001b[1;33m\u001b[0m\u001b[1;33m\u001b[0m\u001b[0m\n\u001b[1;32m--> 422\u001b[1;33m             \u001b[1;32mreturn\u001b[0m \u001b[0mload_model_from_path\u001b[0m\u001b[1;33m(\u001b[0m\u001b[0mPath\u001b[0m\u001b[1;33m(\u001b[0m\u001b[0mname\u001b[0m\u001b[1;33m)\u001b[0m\u001b[1;33m,\u001b[0m \u001b[1;33m**\u001b[0m\u001b[0mkwargs\u001b[0m\u001b[1;33m)\u001b[0m  \u001b[1;31m# type: ignore[arg-type]\u001b[0m\u001b[1;33m\u001b[0m\u001b[1;33m\u001b[0m\u001b[0m\n\u001b[0m\u001b[0;32m    423\u001b[0m     \u001b[1;32melif\u001b[0m \u001b[0mhasattr\u001b[0m\u001b[1;33m(\u001b[0m\u001b[0mname\u001b[0m\u001b[1;33m,\u001b[0m \u001b[1;34m\"exists\"\u001b[0m\u001b[1;33m)\u001b[0m\u001b[1;33m:\u001b[0m  \u001b[1;31m# Path or Path-like to model data\u001b[0m\u001b[1;33m\u001b[0m\u001b[1;33m\u001b[0m\u001b[0m\n\u001b[0;32m    424\u001b[0m         \u001b[1;32mreturn\u001b[0m \u001b[0mload_model_from_path\u001b[0m\u001b[1;33m(\u001b[0m\u001b[0mname\u001b[0m\u001b[1;33m,\u001b[0m \u001b[1;33m**\u001b[0m\u001b[0mkwargs\u001b[0m\u001b[1;33m)\u001b[0m  \u001b[1;31m# type: ignore[arg-type]\u001b[0m\u001b[1;33m\u001b[0m\u001b[1;33m\u001b[0m\u001b[0m\n",
      "\u001b[1;32m~\\Anaconda3\\lib\\site-packages\\spacy\\util.py\u001b[0m in \u001b[0;36mload_model_from_path\u001b[1;34m(model_path, meta, vocab, disable, exclude, config)\u001b[0m\n\u001b[0;32m    485\u001b[0m     \u001b[0mconfig_path\u001b[0m \u001b[1;33m=\u001b[0m \u001b[0mmodel_path\u001b[0m \u001b[1;33m/\u001b[0m \u001b[1;34m\"config.cfg\"\u001b[0m\u001b[1;33m\u001b[0m\u001b[1;33m\u001b[0m\u001b[0m\n\u001b[0;32m    486\u001b[0m     \u001b[0moverrides\u001b[0m \u001b[1;33m=\u001b[0m \u001b[0mdict_to_dot\u001b[0m\u001b[1;33m(\u001b[0m\u001b[0mconfig\u001b[0m\u001b[1;33m)\u001b[0m\u001b[1;33m\u001b[0m\u001b[1;33m\u001b[0m\u001b[0m\n\u001b[1;32m--> 487\u001b[1;33m     \u001b[0mconfig\u001b[0m \u001b[1;33m=\u001b[0m \u001b[0mload_config\u001b[0m\u001b[1;33m(\u001b[0m\u001b[0mconfig_path\u001b[0m\u001b[1;33m,\u001b[0m \u001b[0moverrides\u001b[0m\u001b[1;33m=\u001b[0m\u001b[0moverrides\u001b[0m\u001b[1;33m)\u001b[0m\u001b[1;33m\u001b[0m\u001b[1;33m\u001b[0m\u001b[0m\n\u001b[0m\u001b[0;32m    488\u001b[0m     \u001b[0mnlp\u001b[0m \u001b[1;33m=\u001b[0m \u001b[0mload_model_from_config\u001b[0m\u001b[1;33m(\u001b[0m\u001b[0mconfig\u001b[0m\u001b[1;33m,\u001b[0m \u001b[0mvocab\u001b[0m\u001b[1;33m=\u001b[0m\u001b[0mvocab\u001b[0m\u001b[1;33m,\u001b[0m \u001b[0mdisable\u001b[0m\u001b[1;33m=\u001b[0m\u001b[0mdisable\u001b[0m\u001b[1;33m,\u001b[0m \u001b[0mexclude\u001b[0m\u001b[1;33m=\u001b[0m\u001b[0mexclude\u001b[0m\u001b[1;33m)\u001b[0m\u001b[1;33m\u001b[0m\u001b[1;33m\u001b[0m\u001b[0m\n\u001b[0;32m    489\u001b[0m     \u001b[1;32mreturn\u001b[0m \u001b[0mnlp\u001b[0m\u001b[1;33m.\u001b[0m\u001b[0mfrom_disk\u001b[0m\u001b[1;33m(\u001b[0m\u001b[0mmodel_path\u001b[0m\u001b[1;33m,\u001b[0m \u001b[0mexclude\u001b[0m\u001b[1;33m=\u001b[0m\u001b[0mexclude\u001b[0m\u001b[1;33m,\u001b[0m \u001b[0moverrides\u001b[0m\u001b[1;33m=\u001b[0m\u001b[0moverrides\u001b[0m\u001b[1;33m)\u001b[0m\u001b[1;33m\u001b[0m\u001b[1;33m\u001b[0m\u001b[0m\n",
      "\u001b[1;32m~\\Anaconda3\\lib\\site-packages\\spacy\\util.py\u001b[0m in \u001b[0;36mload_config\u001b[1;34m(path, overrides, interpolate)\u001b[0m\n\u001b[0;32m    644\u001b[0m     \u001b[1;32melse\u001b[0m\u001b[1;33m:\u001b[0m\u001b[1;33m\u001b[0m\u001b[1;33m\u001b[0m\u001b[0m\n\u001b[0;32m    645\u001b[0m         \u001b[1;32mif\u001b[0m \u001b[1;32mnot\u001b[0m \u001b[0mconfig_path\u001b[0m \u001b[1;32mor\u001b[0m \u001b[1;32mnot\u001b[0m \u001b[0mconfig_path\u001b[0m\u001b[1;33m.\u001b[0m\u001b[0mexists\u001b[0m\u001b[1;33m(\u001b[0m\u001b[1;33m)\u001b[0m \u001b[1;32mor\u001b[0m \u001b[1;32mnot\u001b[0m \u001b[0mconfig_path\u001b[0m\u001b[1;33m.\u001b[0m\u001b[0mis_file\u001b[0m\u001b[1;33m(\u001b[0m\u001b[1;33m)\u001b[0m\u001b[1;33m:\u001b[0m\u001b[1;33m\u001b[0m\u001b[1;33m\u001b[0m\u001b[0m\n\u001b[1;32m--> 646\u001b[1;33m             \u001b[1;32mraise\u001b[0m \u001b[0mIOError\u001b[0m\u001b[1;33m(\u001b[0m\u001b[0mErrors\u001b[0m\u001b[1;33m.\u001b[0m\u001b[0mE053\u001b[0m\u001b[1;33m.\u001b[0m\u001b[0mformat\u001b[0m\u001b[1;33m(\u001b[0m\u001b[0mpath\u001b[0m\u001b[1;33m=\u001b[0m\u001b[0mconfig_path\u001b[0m\u001b[1;33m,\u001b[0m \u001b[0mname\u001b[0m\u001b[1;33m=\u001b[0m\u001b[1;34m\"config.cfg\"\u001b[0m\u001b[1;33m)\u001b[0m\u001b[1;33m)\u001b[0m\u001b[1;33m\u001b[0m\u001b[1;33m\u001b[0m\u001b[0m\n\u001b[0m\u001b[0;32m    647\u001b[0m         return config.from_disk(\n\u001b[0;32m    648\u001b[0m             \u001b[0mconfig_path\u001b[0m\u001b[1;33m,\u001b[0m \u001b[0moverrides\u001b[0m\u001b[1;33m=\u001b[0m\u001b[0moverrides\u001b[0m\u001b[1;33m,\u001b[0m \u001b[0minterpolate\u001b[0m\u001b[1;33m=\u001b[0m\u001b[0minterpolate\u001b[0m\u001b[1;33m\u001b[0m\u001b[1;33m\u001b[0m\u001b[0m\n",
      "\u001b[1;31mOSError\u001b[0m: [E053] Could not read config.cfg from C:\\Users\\JBanerjee\\Anaconda3\\lib\\site-packages\\pyresparser\\config.cfg"
     ]
    }
   ],
   "source": [
    "from pyresparser import ResumeParser\n",
    "data = ResumeParser('./sample_data/Sohini Banerjee Reddy - Scrum Master.pdf').get_extracted_data()\n",
    "data\n"
   ]
  },
  {
   "cell_type": "code",
   "execution_count": 194,
   "id": "e7f44a73",
   "metadata": {},
   "outputs": [
    {
     "ename": "JVMNotFoundException",
     "evalue": "No JVM shared library file (jvm.dll) found. Try setting up the JAVA_HOME environment variable properly.",
     "output_type": "error",
     "traceback": [
      "\u001b[1;31m---------------------------------------------------------------------------\u001b[0m",
      "\u001b[1;31mJVMNotFoundException\u001b[0m                      Traceback (most recent call last)",
      "\u001b[1;32mC:\\Users\\JBANER~1\\AppData\\Local\\Temp/ipykernel_5404/2805016000.py\u001b[0m in \u001b[0;36m<module>\u001b[1;34m\u001b[0m\n\u001b[1;32m----> 1\u001b[1;33m \u001b[0mp\u001b[0m \u001b[1;33m=\u001b[0m \u001b[0mpdfbox\u001b[0m\u001b[1;33m.\u001b[0m\u001b[0mPDFBox\u001b[0m\u001b[1;33m(\u001b[0m\u001b[1;33m)\u001b[0m\u001b[1;33m\u001b[0m\u001b[1;33m\u001b[0m\u001b[0m\n\u001b[0m\u001b[0;32m      2\u001b[0m \u001b[0mp\u001b[0m\u001b[1;33m.\u001b[0m\u001b[0mextract_text\u001b[0m\u001b[1;33m(\u001b[0m\u001b[1;34m'./sample_data/Sohini Banerjee Reddy - Scrum Master.pdf'\u001b[0m\u001b[1;33m)\u001b[0m\u001b[1;33m\u001b[0m\u001b[1;33m\u001b[0m\u001b[0m\n",
      "\u001b[1;32m~\\Anaconda3\\lib\\site-packages\\pdfbox\\__init__.py\u001b[0m in \u001b[0;36m__init__\u001b[1;34m(self)\u001b[0m\n\u001b[0;32m    139\u001b[0m         \u001b[0mjpype\u001b[0m\u001b[1;33m.\u001b[0m\u001b[0maddClassPath\u001b[0m\u001b[1;33m(\u001b[0m\u001b[0mself\u001b[0m\u001b[1;33m.\u001b[0m\u001b[0mpdfbox_path\u001b[0m\u001b[1;33m)\u001b[0m\u001b[1;33m\u001b[0m\u001b[1;33m\u001b[0m\u001b[0m\n\u001b[0;32m    140\u001b[0m         \u001b[1;32mif\u001b[0m \u001b[1;32mnot\u001b[0m \u001b[0mjpype\u001b[0m\u001b[1;33m.\u001b[0m\u001b[0misJVMStarted\u001b[0m\u001b[1;33m(\u001b[0m\u001b[1;33m)\u001b[0m\u001b[1;33m:\u001b[0m\u001b[1;33m\u001b[0m\u001b[1;33m\u001b[0m\u001b[0m\n\u001b[1;32m--> 141\u001b[1;33m             \u001b[0mjpype\u001b[0m\u001b[1;33m.\u001b[0m\u001b[0mstartJVM\u001b[0m\u001b[1;33m(\u001b[0m\u001b[0mconvertStrings\u001b[0m\u001b[1;33m=\u001b[0m\u001b[1;32mFalse\u001b[0m\u001b[1;33m)\u001b[0m\u001b[1;33m\u001b[0m\u001b[1;33m\u001b[0m\u001b[0m\n\u001b[0m\u001b[0;32m    142\u001b[0m         \u001b[1;32mimport\u001b[0m \u001b[0morg\u001b[0m\u001b[1;33m.\u001b[0m\u001b[0mapache\u001b[0m\u001b[1;33m.\u001b[0m\u001b[0mpdfbox\u001b[0m\u001b[1;33m.\u001b[0m\u001b[0mtools\u001b[0m \u001b[1;32mas\u001b[0m \u001b[0mtools\u001b[0m\u001b[1;33m\u001b[0m\u001b[1;33m\u001b[0m\u001b[0m\n\u001b[0;32m    143\u001b[0m         \u001b[0mself\u001b[0m\u001b[1;33m.\u001b[0m\u001b[0mpdfbox_tools\u001b[0m \u001b[1;33m=\u001b[0m \u001b[0mtools\u001b[0m\u001b[1;33m\u001b[0m\u001b[1;33m\u001b[0m\u001b[0m\n",
      "\u001b[1;32m~\\Anaconda3\\lib\\site-packages\\jpype\\_core.py\u001b[0m in \u001b[0;36mstartJVM\u001b[1;34m(*args, **kwargs)\u001b[0m\n\u001b[0;32m    190\u001b[0m         \u001b[0mjvmpath\u001b[0m \u001b[1;33m=\u001b[0m \u001b[0mkwargs\u001b[0m\u001b[1;33m.\u001b[0m\u001b[0mpop\u001b[0m\u001b[1;33m(\u001b[0m\u001b[1;34m'jvmpath'\u001b[0m\u001b[1;33m)\u001b[0m\u001b[1;33m\u001b[0m\u001b[1;33m\u001b[0m\u001b[0m\n\u001b[0;32m    191\u001b[0m     \u001b[1;32mif\u001b[0m \u001b[1;32mnot\u001b[0m \u001b[0mjvmpath\u001b[0m\u001b[1;33m:\u001b[0m\u001b[1;33m\u001b[0m\u001b[1;33m\u001b[0m\u001b[0m\n\u001b[1;32m--> 192\u001b[1;33m         \u001b[0mjvmpath\u001b[0m \u001b[1;33m=\u001b[0m \u001b[0mgetDefaultJVMPath\u001b[0m\u001b[1;33m(\u001b[0m\u001b[1;33m)\u001b[0m\u001b[1;33m\u001b[0m\u001b[1;33m\u001b[0m\u001b[0m\n\u001b[0m\u001b[0;32m    193\u001b[0m \u001b[1;33m\u001b[0m\u001b[0m\n\u001b[0;32m    194\u001b[0m     \u001b[1;31m# Classpath handling\u001b[0m\u001b[1;33m\u001b[0m\u001b[1;33m\u001b[0m\u001b[1;33m\u001b[0m\u001b[0m\n",
      "\u001b[1;32m~\\Anaconda3\\lib\\site-packages\\jpype\\_jvmfinder.py\u001b[0m in \u001b[0;36mgetDefaultJVMPath\u001b[1;34m()\u001b[0m\n\u001b[0;32m     72\u001b[0m     \u001b[1;32melse\u001b[0m\u001b[1;33m:\u001b[0m\u001b[1;33m\u001b[0m\u001b[1;33m\u001b[0m\u001b[0m\n\u001b[0;32m     73\u001b[0m         \u001b[0mfinder\u001b[0m \u001b[1;33m=\u001b[0m \u001b[0mLinuxJVMFinder\u001b[0m\u001b[1;33m(\u001b[0m\u001b[1;33m)\u001b[0m\u001b[1;33m\u001b[0m\u001b[1;33m\u001b[0m\u001b[0m\n\u001b[1;32m---> 74\u001b[1;33m     \u001b[1;32mreturn\u001b[0m \u001b[0mfinder\u001b[0m\u001b[1;33m.\u001b[0m\u001b[0mget_jvm_path\u001b[0m\u001b[1;33m(\u001b[0m\u001b[1;33m)\u001b[0m\u001b[1;33m\u001b[0m\u001b[1;33m\u001b[0m\u001b[0m\n\u001b[0m\u001b[0;32m     75\u001b[0m \u001b[1;33m\u001b[0m\u001b[0m\n\u001b[0;32m     76\u001b[0m \u001b[1;33m\u001b[0m\u001b[0m\n",
      "\u001b[1;32m~\\Anaconda3\\lib\\site-packages\\jpype\\_jvmfinder.py\u001b[0m in \u001b[0;36mget_jvm_path\u001b[1;34m(self)\u001b[0m\n\u001b[0;32m    210\u001b[0m         \u001b[1;32mif\u001b[0m \u001b[0mjvm_notsupport_ext\u001b[0m \u001b[1;32mis\u001b[0m \u001b[1;32mnot\u001b[0m \u001b[1;32mNone\u001b[0m\u001b[1;33m:\u001b[0m\u001b[1;33m\u001b[0m\u001b[1;33m\u001b[0m\u001b[0m\n\u001b[0;32m    211\u001b[0m             \u001b[1;32mraise\u001b[0m \u001b[0mjvm_notsupport_ext\u001b[0m\u001b[1;33m\u001b[0m\u001b[1;33m\u001b[0m\u001b[0m\n\u001b[1;32m--> 212\u001b[1;33m         raise JVMNotFoundException(\"No JVM shared library file ({0}) \"\n\u001b[0m\u001b[0;32m    213\u001b[0m                                    \u001b[1;34m\"found. Try setting up the JAVA_HOME \"\u001b[0m\u001b[1;33m\u001b[0m\u001b[1;33m\u001b[0m\u001b[0m\n\u001b[0;32m    214\u001b[0m                                    \u001b[1;34m\"environment variable properly.\"\u001b[0m\u001b[1;33m\u001b[0m\u001b[1;33m\u001b[0m\u001b[0m\n",
      "\u001b[1;31mJVMNotFoundException\u001b[0m: No JVM shared library file (jvm.dll) found. Try setting up the JAVA_HOME environment variable properly."
     ]
    }
   ],
   "source": [
    "p = pdfbox.PDFBox()\n",
    "p.extract_text('./sample_data/Sohini Banerjee Reddy - Scrum Master.pdf')"
   ]
  },
  {
   "cell_type": "code",
   "execution_count": 180,
   "id": "0f728e0e",
   "metadata": {},
   "outputs": [],
   "source": [
    "file = open('./sample_data/Sohini Banerjee Reddy - Scrum Master.pdf', 'rb')"
   ]
  },
  {
   "cell_type": "code",
   "execution_count": 181,
   "id": "e865d861",
   "metadata": {},
   "outputs": [],
   "source": [
    "def perform_data_pre_processing(text):\n",
    "\n",
    "    '''Make text lowercase, remove text in square brackets, remove punctuation and remove words containing numbers.'''\n",
    "    \n",
    "    text = text.lower()\n",
    "    text = text.replace('\\n', '')\n",
    "    text = text.replace('|', '')\n",
    "    text = text.replace(':', '')\n",
    "    text = text.replace('  ', ' ')\n",
    "    \n",
    "    return text"
   ]
  },
  {
   "cell_type": "code",
   "execution_count": 182,
   "id": "d4580743",
   "metadata": {},
   "outputs": [],
   "source": [
    "def read_pdf_content(file):\n",
    "    \n",
    "    ''' Function to extract pdf data '''\n",
    "    \n",
    "    pdf_reader = pdf.PdfFileReader(file)\n",
    "    page_count = pdf_reader.getNumPages()\n",
    "    \n",
    "    if pdf_reader.getIsEncrypted():\n",
    "        print('File is Encrypted, provide Password')\n",
    "    else:\n",
    "        page1      = pdf_reader.getPage(0)\n",
    "        text_blob  = page1.extractText()\n",
    "    \n",
    "    return text_blob"
   ]
  },
  {
   "cell_type": "code",
   "execution_count": 183,
   "id": "d65015c0",
   "metadata": {},
   "outputs": [
    {
     "data": {
      "text/plain": [
       "' \\n \\nSumm\\na\\nr\\ny\\n \\nof S\\nk\\ni\\nl\\nls\\n \\n \\n \\n\\n \\nAgile \\nCoach\\n \\n\\n \\nEvangelist of agile/scrum \\nprinciples and methodology.\\n \\n\\n \\nProven ability to work \\ncreatively and analytically in a \\nproblem\\n-\\nsolving environment\\n \\n\\n \\nMentoring\\n \\n\\n \\nTeam Management\\n \\n\\n \\nStakeholder \\nManagement\\n \\n\\n \\nProject \\nMangement and \\nAllocations\\n \\n\\n \\nProject Documentation\\n \\n\\n \\nSprint Planning\\n, Sprint \\nRetrospective\\n \\n\\n \\nScrum of Scrums\\n \\n\\n \\nCommunity of Practice\\n \\n\\n \\nBacklog management\\n \\n\\n \\nPM tools: \\nClarity PPM,\\n \\nJIRA\\n,\\n \\nRally,\\n \\nMicrosoft TFS\\n \\n\\n \\nUser stories\\n \\n\\n \\nSprint planning\\n \\n\\n \\nCoaching agile practices\\n \\n\\n \\nRemoving impediment\\n \\n\\n \\nRetrospective meetings\\n \\n\\n \\nTeam building\\n \\n\\n \\nBurndown charts\\n \\n\\n \\nQuality control\\n \\n\\n \\nCommunication\\n \\n\\n \\nDocumentation\\n \\n\\n \\nRequirement \\nG\\nathering\\n \\n\\n \\nFunctional Testing\\n \\n(Automation \\n& Manual)\\n \\n\\n \\nC, C++, \\nJIR\\nA,\\n \\nConfluence,\\n \\nSharePoint, \\nAgile, \\nKanban, \\nScrum,\\n \\nSQL, Business \\nA\\nnalyst, \\nAutomation\\n \\nTesting (HP QA)\\n \\n \\nCertifications\\n \\n \\nCertified SAFe Scrum Master\\n \\nCertified SAFe \\nAgilist\\n \\n \\n \\nEducation\\n \\n\\n \\nBachelor in Mathematics\\n \\n \\n \\n \\n \\n \\n \\nSohini B\\nanerjee Reddy\\n \\n \\n605\\n-\\n728\\n-\\n951\\n1\\n \\nsohinireddy79@gmail.com\\n \\nhttps://www.linkedin.com/in/sohinibanerjeereddy/\\n \\n \\nI have over \\n10\\n \\nyears of experience in IT Service industry servicing large \\nhealthcare and financial clients as \\nScrum Master\\n, \\nBusiness Analyst\\n \\nand Quality \\nAss\\nurance \\nEngineer\\n, Scrum Master. \\nEnthusiastic entry\\n-\\nlevel Scrum\\n \\nto Agile \\nCoach. Has\\n \\nworked in Agile environment as a software engineer for 7 years. \\nProven history of successful work with cross\\n-\\nfunctional teams.\\n \\nWith \\nexceptional client communication and interpersonal skills, I have been able to \\nprovide value to my clients and deliver qual\\nity results with meaningful \\noutcomes. \\n \\n \\nP\\nROFESSIONAL\\n \\nEXPERIENCE\\n \\n \\nAgile\\n \\nProject\\n \\nManager\\n \\n/\\n  \\nSAFe\\n \\nScrum\\n \\nMaster\\n \\n \\nCognizant\\n \\n\\n \\nLarge\\n \\nHealthcare\\n \\n&\\n \\nFinancial\\n \\nClients\\n \\n201\\n6\\n \\n\\n \\nFeb,2020\\n \\n \\nChicago\\n,\\n \\nIL\\n \\n \\n\\n \\nLeading a global team of Scrum Team spread across 3 \\ncontinents \\n\\n \\nNorth America, Europe and Asia\\n-\\nPac.\\n \\n\\n \\nTeam site and Scrum Practice setup for remote teams\\n \\n\\n \\nCoordinate with Global Product Owners for backlog grooming, sprint \\nceremonies and retrospectives.\\n \\n\\n \\nResponsible towards Delivery, Project \\nManagement, Productivity \\nmetrics & milestones reporting.\\n \\n\\n \\nLed \\n2\\n \\n\\nfrom Waterfall to\\n \\nAgile development \\nin \\n3\\n \\nmonths.\\n \\n\\n \\nCustomized Scrum and crafted an in\\n-\\nhouse version specifically for \\nClient\\ns\\n \\nteams.\\n \\n\\n \\nResponsible for release train managem\\nent: dependencies, challenges \\nand risks.\\n \\n\\n \\nProduct ownership \\n-\\n \\nCreated comprehensive functional requirements \\nand prioritized them for all sprint meetings.\\n \\n\\n \\nFacilitate sprint planning, daily scrums, retrospectives, stakeholder \\nmeetings, and software demonstrat\\nions\\n \\n\\n \\nProtect development team from outside distractions, impediments, \\nor team conflicts, and maintain focus on product backlog project \\ntimeline.\\n \\n\\n \\nWork closely with project owner in backlog management and \\ncontinuous delivery of features.\\n \\n\\n \\nEducate and reinforc\\ne scrum methodology and agile framework to \\nteam members and stakeholders.\\n \\n\\n \\nDirect and lead development team from project initiation through \\nthe delivery of final product.\\n \\n \\n \\nScrum\\n \\nMaster\\n,\\n \\nBusiness\\n \\nAnalyst\\n \\n \\nJohnson\\n \\nControls\\n \\n \\n \\n \\n \\n201\\n5\\n \\n-\\n \\n2016\\n \\n \\nMilwaukee\\n,\\n \\nWI\\n \\n \\n\\n \\n\\ndocument analysis, interviews, workshops, and workflow analysis.\\n \\n\\n \\nFacilitated sprint planning, retrospective and sprint demos\\n \\n\\n \\nProvide input into developing and modifying systems to meet client \\nnee\\nds and develop business specifications to support these \\nmodifications.\\n \\n \\n'"
      ]
     },
     "execution_count": 183,
     "metadata": {},
     "output_type": "execute_result"
    }
   ],
   "source": [
    "content = read_pdf_content(file)\n",
    "content"
   ]
  },
  {
   "cell_type": "code",
   "execution_count": 184,
   "id": "5eec6be6",
   "metadata": {},
   "outputs": [
    {
     "data": {
      "text/plain": [
       "' summary of skills  agile coach evangelist of agile/scrum principles and methodology. proven ability to work creatively and analytically in a problem-solving environment mentoring team management stakeholder management project mangement and allocations project documentation sprint planning, sprint retrospective scrum of scrums community of practice backlog management pm tools clarity ppm, jira, rally, microsoft tfs user stories sprint planning coaching agile practices removing impediment retrospective meetings team building burndown charts quality control communication documentation requirement gathering functional testing (automation & manual) c, c++, jira, confluence, sharepoint, agile, kanban, scrum, sql, business analyst, automation testing (hp qa) certifications certified safe scrum master certified safe agilist  education bachelor in mathematics    sohini banerjee reddy 605-728-9511 sohinireddy79@gmail.com https//www.linkedin.com/in/sohinibanerjeereddy/ i have over 10 years of experience in it service industry servicing large healthcare and financial clients as scrum master, business analyst and quality assurance engineer, scrum master. enthusiastic entry-level scrum to agile coach. has worked in agile environment as a software engineer for 7 years. proven history of successful work with cross-functional teams. with exceptional client communication and interpersonal skills, i have been able to provide value to my clients and deliver quality results with meaningful outcomes.  professional experience agile project manager / safe scrum master cognizant large healthcare & financial clients 2016 feb,2020 chicago, il  leading a global team of scrum team spread across 3 continents north america, europe and asia-pac. team site and scrum practice setup for remote teams coordinate with global product owners for backlog grooming, sprint ceremonies and retrospectives. responsible towards delivery, project management, productivity metrics & milestones reporting. led 2 from waterfall to agile development in 3 months. customized scrum and crafted an in-house version specifically for clients teams. responsible for release train management dependencies, challenges and risks. product ownership - created comprehensive functional requirements and prioritized them for all sprint meetings. facilitate sprint planning, daily scrums, retrospectives, stakeholder meetings, and software demonstrations protect development team from outside distractions, impediments, or team conflicts, and maintain focus on product backlog project timeline. work closely with project owner in backlog management and continuous delivery of features. educate and reinforce scrum methodology and agile framework to team members and stakeholders. direct and lead development team from project initiation through the delivery of final product.  scrum master, business analyst johnson controls   2015 - 2016 milwaukee, wi  document analysis, interviews, workshops, and workflow analysis. facilitated sprint planning, retrospective and sprint demos provide input into developing and modifying systems to meet client needs and develop business specifications to support these modifications. '"
      ]
     },
     "execution_count": 184,
     "metadata": {},
     "output_type": "execute_result"
    }
   ],
   "source": [
    "clean_text = perform_data_pre_processing(content)\n",
    "clean_text"
   ]
  },
  {
   "cell_type": "code",
   "execution_count": 189,
   "id": "a53fbf93",
   "metadata": {},
   "outputs": [],
   "source": [
    "def extract_candidate_name(text):\n",
    "    \n",
    "    ''' Function to Extract Candidate Name '''\n",
    "    \n",
    "    doc = nlp(text)\n",
    "    pronoun_list = [token.text for token in doc if (token.pos_ == 'PROPN')]\n",
    "    \n",
    "    name      = ' '.join(pronoun_list[0:2]).upper() # Assumed First 2 bytes of Resume is name\n",
    "    skillset  = ' '.join(pronoun_list[2:]).upper()\n",
    "    \n",
    "    return name"
   ]
  },
  {
   "cell_type": "code",
   "execution_count": 190,
   "id": "a59ae5bf",
   "metadata": {},
   "outputs": [],
   "source": [
    "def find_required_fields(text):\n",
    "    \n",
    "    ''' Function to extract personal details '''\n",
    "    \n",
    "    # Data Extraction\n",
    "    name           = extract_candidate_name(clean_text)\n",
    "    emails         = re.findall(r\"[a-zA-Z0-9\\.\\-+_]+@[a-z0-9\\.\\-+_]+\\.[a-z]+\", text)\n",
    "    github_url     = re.findall(r\"github.com[:/](.*)\", text)\n",
    "    phone          = re.findall(r'[\\+\\(]?[1-9][0-9 .\\-\\(\\)]{8,}[0-9]', text)\n",
    "    websites       = re.findall('(?:(?:https?|ftp):\\/\\/)?[\\w/\\-?=%.]+\\.[\\w/\\-&?=%.]+', text)\n",
    "    profile_df = pd.DataFrame({\n",
    "                                    'Name'       : extract_candidate_name(text),\n",
    "                                    'Email'      : emails, \n",
    "                                    'Phone'      : phone, \n",
    "                                    'Github'     : 'github.com/'+ ''.join(github_url),\n",
    "                                    'Other Sites': '/'.join(websites),\n",
    "                                })\n",
    "    \n",
    "    \n",
    "    return profile_df"
   ]
  },
  {
   "cell_type": "code",
   "execution_count": null,
   "id": "99b35b30",
   "metadata": {},
   "outputs": [],
   "source": []
  },
  {
   "cell_type": "code",
   "execution_count": 191,
   "id": "e824407a",
   "metadata": {},
   "outputs": [
    {
     "ename": "ValueError",
     "evalue": "All arrays must be of the same length",
     "output_type": "error",
     "traceback": [
      "\u001b[1;31m---------------------------------------------------------------------------\u001b[0m",
      "\u001b[1;31mValueError\u001b[0m                                Traceback (most recent call last)",
      "\u001b[1;32mC:\\Users\\JBANER~1\\AppData\\Local\\Temp/ipykernel_5404/3199627773.py\u001b[0m in \u001b[0;36m<module>\u001b[1;34m\u001b[0m\n\u001b[1;32m----> 1\u001b[1;33m \u001b[0mfind_required_fields\u001b[0m\u001b[1;33m(\u001b[0m\u001b[0mclean_text\u001b[0m\u001b[1;33m)\u001b[0m\u001b[1;33m\u001b[0m\u001b[1;33m\u001b[0m\u001b[0m\n\u001b[0m",
      "\u001b[1;32mC:\\Users\\JBANER~1\\AppData\\Local\\Temp/ipykernel_5404/2170826567.py\u001b[0m in \u001b[0;36mfind_required_fields\u001b[1;34m(text)\u001b[0m\n\u001b[0;32m      9\u001b[0m     \u001b[0mphone\u001b[0m          \u001b[1;33m=\u001b[0m \u001b[0mre\u001b[0m\u001b[1;33m.\u001b[0m\u001b[0mfindall\u001b[0m\u001b[1;33m(\u001b[0m\u001b[1;34mr'[\\+\\(]?[1-9][0-9 .\\-\\(\\)]{8,}[0-9]'\u001b[0m\u001b[1;33m,\u001b[0m \u001b[0mtext\u001b[0m\u001b[1;33m)\u001b[0m\u001b[1;33m\u001b[0m\u001b[1;33m\u001b[0m\u001b[0m\n\u001b[0;32m     10\u001b[0m     \u001b[0mwebsites\u001b[0m       \u001b[1;33m=\u001b[0m \u001b[0mre\u001b[0m\u001b[1;33m.\u001b[0m\u001b[0mfindall\u001b[0m\u001b[1;33m(\u001b[0m\u001b[1;34m'(?:(?:https?|ftp):\\/\\/)?[\\w/\\-?=%.]+\\.[\\w/\\-&?=%.]+'\u001b[0m\u001b[1;33m,\u001b[0m \u001b[0mtext\u001b[0m\u001b[1;33m)\u001b[0m\u001b[1;33m\u001b[0m\u001b[1;33m\u001b[0m\u001b[0m\n\u001b[1;32m---> 11\u001b[1;33m     profile_df = pd.DataFrame({\n\u001b[0m\u001b[0;32m     12\u001b[0m                                     \u001b[1;34m'Name'\u001b[0m       \u001b[1;33m:\u001b[0m \u001b[0mextract_candidate_name\u001b[0m\u001b[1;33m(\u001b[0m\u001b[0mtext\u001b[0m\u001b[1;33m)\u001b[0m\u001b[1;33m,\u001b[0m\u001b[1;33m\u001b[0m\u001b[1;33m\u001b[0m\u001b[0m\n\u001b[0;32m     13\u001b[0m                                     \u001b[1;34m'Email'\u001b[0m      \u001b[1;33m:\u001b[0m \u001b[0memails\u001b[0m\u001b[1;33m,\u001b[0m\u001b[1;33m\u001b[0m\u001b[1;33m\u001b[0m\u001b[0m\n",
      "\u001b[1;32m~\\Anaconda3\\lib\\site-packages\\pandas\\core\\frame.py\u001b[0m in \u001b[0;36m__init__\u001b[1;34m(self, data, index, columns, dtype, copy)\u001b[0m\n\u001b[0;32m    612\u001b[0m         \u001b[1;32melif\u001b[0m \u001b[0misinstance\u001b[0m\u001b[1;33m(\u001b[0m\u001b[0mdata\u001b[0m\u001b[1;33m,\u001b[0m \u001b[0mdict\u001b[0m\u001b[1;33m)\u001b[0m\u001b[1;33m:\u001b[0m\u001b[1;33m\u001b[0m\u001b[1;33m\u001b[0m\u001b[0m\n\u001b[0;32m    613\u001b[0m             \u001b[1;31m# GH#38939 de facto copy defaults to False only in non-dict cases\u001b[0m\u001b[1;33m\u001b[0m\u001b[1;33m\u001b[0m\u001b[1;33m\u001b[0m\u001b[0m\n\u001b[1;32m--> 614\u001b[1;33m             \u001b[0mmgr\u001b[0m \u001b[1;33m=\u001b[0m \u001b[0mdict_to_mgr\u001b[0m\u001b[1;33m(\u001b[0m\u001b[0mdata\u001b[0m\u001b[1;33m,\u001b[0m \u001b[0mindex\u001b[0m\u001b[1;33m,\u001b[0m \u001b[0mcolumns\u001b[0m\u001b[1;33m,\u001b[0m \u001b[0mdtype\u001b[0m\u001b[1;33m=\u001b[0m\u001b[0mdtype\u001b[0m\u001b[1;33m,\u001b[0m \u001b[0mcopy\u001b[0m\u001b[1;33m=\u001b[0m\u001b[0mcopy\u001b[0m\u001b[1;33m,\u001b[0m \u001b[0mtyp\u001b[0m\u001b[1;33m=\u001b[0m\u001b[0mmanager\u001b[0m\u001b[1;33m)\u001b[0m\u001b[1;33m\u001b[0m\u001b[1;33m\u001b[0m\u001b[0m\n\u001b[0m\u001b[0;32m    615\u001b[0m         \u001b[1;32melif\u001b[0m \u001b[0misinstance\u001b[0m\u001b[1;33m(\u001b[0m\u001b[0mdata\u001b[0m\u001b[1;33m,\u001b[0m \u001b[0mma\u001b[0m\u001b[1;33m.\u001b[0m\u001b[0mMaskedArray\u001b[0m\u001b[1;33m)\u001b[0m\u001b[1;33m:\u001b[0m\u001b[1;33m\u001b[0m\u001b[1;33m\u001b[0m\u001b[0m\n\u001b[0;32m    616\u001b[0m             \u001b[1;32mimport\u001b[0m \u001b[0mnumpy\u001b[0m\u001b[1;33m.\u001b[0m\u001b[0mma\u001b[0m\u001b[1;33m.\u001b[0m\u001b[0mmrecords\u001b[0m \u001b[1;32mas\u001b[0m \u001b[0mmrecords\u001b[0m\u001b[1;33m\u001b[0m\u001b[1;33m\u001b[0m\u001b[0m\n",
      "\u001b[1;32m~\\Anaconda3\\lib\\site-packages\\pandas\\core\\internals\\construction.py\u001b[0m in \u001b[0;36mdict_to_mgr\u001b[1;34m(data, index, columns, dtype, typ, copy)\u001b[0m\n\u001b[0;32m    462\u001b[0m         \u001b[1;31m# TODO: can we get rid of the dt64tz special case above?\u001b[0m\u001b[1;33m\u001b[0m\u001b[1;33m\u001b[0m\u001b[1;33m\u001b[0m\u001b[0m\n\u001b[0;32m    463\u001b[0m \u001b[1;33m\u001b[0m\u001b[0m\n\u001b[1;32m--> 464\u001b[1;33m     return arrays_to_mgr(\n\u001b[0m\u001b[0;32m    465\u001b[0m         \u001b[0marrays\u001b[0m\u001b[1;33m,\u001b[0m \u001b[0mdata_names\u001b[0m\u001b[1;33m,\u001b[0m \u001b[0mindex\u001b[0m\u001b[1;33m,\u001b[0m \u001b[0mcolumns\u001b[0m\u001b[1;33m,\u001b[0m \u001b[0mdtype\u001b[0m\u001b[1;33m=\u001b[0m\u001b[0mdtype\u001b[0m\u001b[1;33m,\u001b[0m \u001b[0mtyp\u001b[0m\u001b[1;33m=\u001b[0m\u001b[0mtyp\u001b[0m\u001b[1;33m,\u001b[0m \u001b[0mconsolidate\u001b[0m\u001b[1;33m=\u001b[0m\u001b[0mcopy\u001b[0m\u001b[1;33m\u001b[0m\u001b[1;33m\u001b[0m\u001b[0m\n\u001b[0;32m    466\u001b[0m     )\n",
      "\u001b[1;32m~\\Anaconda3\\lib\\site-packages\\pandas\\core\\internals\\construction.py\u001b[0m in \u001b[0;36marrays_to_mgr\u001b[1;34m(arrays, arr_names, index, columns, dtype, verify_integrity, typ, consolidate)\u001b[0m\n\u001b[0;32m    117\u001b[0m         \u001b[1;31m# figure out the index, if necessary\u001b[0m\u001b[1;33m\u001b[0m\u001b[1;33m\u001b[0m\u001b[1;33m\u001b[0m\u001b[0m\n\u001b[0;32m    118\u001b[0m         \u001b[1;32mif\u001b[0m \u001b[0mindex\u001b[0m \u001b[1;32mis\u001b[0m \u001b[1;32mNone\u001b[0m\u001b[1;33m:\u001b[0m\u001b[1;33m\u001b[0m\u001b[1;33m\u001b[0m\u001b[0m\n\u001b[1;32m--> 119\u001b[1;33m             \u001b[0mindex\u001b[0m \u001b[1;33m=\u001b[0m \u001b[0m_extract_index\u001b[0m\u001b[1;33m(\u001b[0m\u001b[0marrays\u001b[0m\u001b[1;33m)\u001b[0m\u001b[1;33m\u001b[0m\u001b[1;33m\u001b[0m\u001b[0m\n\u001b[0m\u001b[0;32m    120\u001b[0m         \u001b[1;32melse\u001b[0m\u001b[1;33m:\u001b[0m\u001b[1;33m\u001b[0m\u001b[1;33m\u001b[0m\u001b[0m\n\u001b[0;32m    121\u001b[0m             \u001b[0mindex\u001b[0m \u001b[1;33m=\u001b[0m \u001b[0mensure_index\u001b[0m\u001b[1;33m(\u001b[0m\u001b[0mindex\u001b[0m\u001b[1;33m)\u001b[0m\u001b[1;33m\u001b[0m\u001b[1;33m\u001b[0m\u001b[0m\n",
      "\u001b[1;32m~\\Anaconda3\\lib\\site-packages\\pandas\\core\\internals\\construction.py\u001b[0m in \u001b[0;36m_extract_index\u001b[1;34m(data)\u001b[0m\n\u001b[0;32m    633\u001b[0m             \u001b[0mlengths\u001b[0m \u001b[1;33m=\u001b[0m \u001b[0mlist\u001b[0m\u001b[1;33m(\u001b[0m\u001b[0mset\u001b[0m\u001b[1;33m(\u001b[0m\u001b[0mraw_lengths\u001b[0m\u001b[1;33m)\u001b[0m\u001b[1;33m)\u001b[0m\u001b[1;33m\u001b[0m\u001b[1;33m\u001b[0m\u001b[0m\n\u001b[0;32m    634\u001b[0m             \u001b[1;32mif\u001b[0m \u001b[0mlen\u001b[0m\u001b[1;33m(\u001b[0m\u001b[0mlengths\u001b[0m\u001b[1;33m)\u001b[0m \u001b[1;33m>\u001b[0m \u001b[1;36m1\u001b[0m\u001b[1;33m:\u001b[0m\u001b[1;33m\u001b[0m\u001b[1;33m\u001b[0m\u001b[0m\n\u001b[1;32m--> 635\u001b[1;33m                 \u001b[1;32mraise\u001b[0m \u001b[0mValueError\u001b[0m\u001b[1;33m(\u001b[0m\u001b[1;34m\"All arrays must be of the same length\"\u001b[0m\u001b[1;33m)\u001b[0m\u001b[1;33m\u001b[0m\u001b[1;33m\u001b[0m\u001b[0m\n\u001b[0m\u001b[0;32m    636\u001b[0m \u001b[1;33m\u001b[0m\u001b[0m\n\u001b[0;32m    637\u001b[0m             \u001b[1;32mif\u001b[0m \u001b[0mhave_dicts\u001b[0m\u001b[1;33m:\u001b[0m\u001b[1;33m\u001b[0m\u001b[1;33m\u001b[0m\u001b[0m\n",
      "\u001b[1;31mValueError\u001b[0m: All arrays must be of the same length"
     ]
    }
   ],
   "source": [
    "find_required_fields(clean_text)"
   ]
  },
  {
   "cell_type": "code",
   "execution_count": 188,
   "id": "64f9036d",
   "metadata": {},
   "outputs": [
    {
     "data": {
      "text/plain": [
       "'TFS STORIES C++ JIRA SHAREPOINT SCRUM SQL HP QA EDUCATION SOHINI BANERJEE REDDY HTTPS//WWW.LINKEDIN.COM FEB,2020 CHICAGO IL SCRUM NORTH AMERICA EUROPE ASIA PAC . SCRUM JOHNSON MILWAUKEE WI'"
      ]
     },
     "execution_count": 188,
     "metadata": {},
     "output_type": "execute_result"
    }
   ],
   "source": [
    "name, skillset = extract_candidate_name(clean_text)\n",
    "skillset"
   ]
  },
  {
   "cell_type": "code",
   "execution_count": null,
   "id": "e4571920",
   "metadata": {},
   "outputs": [],
   "source": []
  }
 ],
 "metadata": {
  "kernelspec": {
   "display_name": "Python 3 (ipykernel)",
   "language": "python",
   "name": "python3"
  },
  "language_info": {
   "codemirror_mode": {
    "name": "ipython",
    "version": 3
   },
   "file_extension": ".py",
   "mimetype": "text/x-python",
   "name": "python",
   "nbconvert_exporter": "python",
   "pygments_lexer": "ipython3",
   "version": "3.8.12"
  }
 },
 "nbformat": 4,
 "nbformat_minor": 5
}
